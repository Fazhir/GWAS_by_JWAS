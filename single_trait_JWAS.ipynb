{
 "cells": [
  {
   "cell_type": "code",
   "execution_count": 1,
   "id": "41896740",
   "metadata": {},
   "outputs": [
    {
     "name": "stderr",
     "output_type": "stream",
     "text": [
      "\u001b[32m\u001b[1m    Updating\u001b[22m\u001b[39m git-repo `https://github.com/reworkhow/JWAS.jl.git`\n",
      "\u001b[32m\u001b[1m    Updating\u001b[22m\u001b[39m registry at `C:\\Users\\aisha\\.julia\\registries\\General.toml`\n",
      "\u001b[32m\u001b[1m   Resolving\u001b[22m\u001b[39m package versions...\n",
      "\u001b[32m\u001b[1m  No Changes\u001b[22m\u001b[39m to `C:\\Users\\aisha\\.julia\\environments\\v1.10\\Project.toml`\n",
      "\u001b[32m\u001b[1m  No Changes\u001b[22m\u001b[39m to `C:\\Users\\aisha\\.julia\\environments\\v1.10\\Manifest.toml`\n",
      "\u001b[32m\u001b[1m    Updating\u001b[22m\u001b[39m registry at `C:\\Users\\aisha\\.julia\\registries\\General.toml`\n",
      "\u001b[32m\u001b[1m    Updating\u001b[22m\u001b[39m git-repo `https://github.com/reworkhow/JWAS.jl.git`\n",
      "\u001b[32m\u001b[1m  No Changes\u001b[22m\u001b[39m to `C:\\Users\\aisha\\.julia\\environments\\v1.10\\Project.toml`\n",
      "\u001b[32m\u001b[1m  No Changes\u001b[22m\u001b[39m to `C:\\Users\\aisha\\.julia\\environments\\v1.10\\Manifest.toml`\n",
      "\u001b[32m\u001b[1m   Resolving\u001b[22m\u001b[39m package versions...\n",
      "\u001b[32m\u001b[1m  No Changes\u001b[22m\u001b[39m to `C:\\Users\\aisha\\.julia\\environments\\v1.10\\Project.toml`\n",
      "\u001b[32m\u001b[1m  No Changes\u001b[22m\u001b[39m to `C:\\Users\\aisha\\.julia\\environments\\v1.10\\Manifest.toml`\n",
      "\u001b[32m\u001b[1m   Resolving\u001b[22m\u001b[39m package versions...\n",
      "\u001b[32m\u001b[1m  No Changes\u001b[22m\u001b[39m to `C:\\Users\\aisha\\.julia\\environments\\v1.10\\Project.toml`\n",
      "\u001b[32m\u001b[1m  No Changes\u001b[22m\u001b[39m to `C:\\Users\\aisha\\.julia\\environments\\v1.10\\Manifest.toml`\n"
     ]
    }
   ],
   "source": [
    "using Pkg\n",
    "Pkg.add(PackageSpec(name=\"JWAS\", rev=\"master\"))\n",
    "Pkg.update()\n",
    "Pkg.add(\"DataFrames\")\n",
    "Pkg.add(\"CSV\")\n",
    "using JWAS,JWAS.Datasets,DataFrames,CSV,Statistics\n"
   ]
  },
  {
   "cell_type": "code",
   "execution_count": 2,
   "id": "db488f7b",
   "metadata": {},
   "outputs": [
    {
     "name": "stderr",
     "output_type": "stream",
     "text": [
      "\u001b[33m\u001b[1m┌ \u001b[22m\u001b[39m\u001b[33m\u001b[1mWarning: \u001b[22m\u001b[39m`missingstrings` keyword argument is deprecated; pass a `Vector{String}` to `missingstring` instead\n",
      "\u001b[33m\u001b[1m└ \u001b[22m\u001b[39m\u001b[90m@ CSV C:\\Users\\aisha\\.julia\\packages\\CSV\\aoJqo\\src\\context.jl:344\u001b[39m\n"
     ]
    },
    {
     "data": {
      "text/html": [
       "<div><div style = \"float: left;\"><span>5×23 DataFrame</span></div><div style = \"clear: both;\"></div></div><div class = \"data-frame\" style = \"overflow-x: scroll;\"><table class = \"data-frame\" style = \"margin-bottom: 6px;\"><thead><tr class = \"header\"><th class = \"rowNumber\" style = \"font-weight: bold; text-align: right;\">Row</th><th style = \"text-align: left;\">ID</th><th style = \"text-align: left;\">Batch</th><th style = \"text-align: left;\">Company</th><th style = \"text-align: left;\">SowID</th><th style = \"text-align: left;\">EntryAge</th><th style = \"text-align: left;\">Cortisol</th><th style = \"text-align: left;\">Hair1_GrindingDate</th><th style = \"text-align: left;\">C_ExtractionDate</th><th style = \"text-align: left;\">C_GrindingToExtractionTime</th><th style = \"text-align: left;\">qNurlogCort</th><th style = \"text-align: left;\">SW_144836353</th><th style = \"text-align: left;\">SW_144841591</th><th style = \"text-align: left;\">SW_144792892</th><th style = \"text-align: left;\">SW_144876147</th><th style = \"text-align: left;\">SW_144827094</th><th style = \"text-align: left;\">SW_144841166</th><th style = \"text-align: left;\">qNurPenBatch</th><th style = \"text-align: left;\">SW_144783524</th><th style = \"text-align: left;\">SW_144783527</th><th style = \"text-align: left;\">cNurlogCort</th><th style = \"text-align: left;\">cNurPenBatch</th><th style = \"text-align: left;\">GrindingDate2</th><th style = \"text-align: left;\">cNur_groundstorage</th></tr><tr class = \"subheader headerLastRow\"><th class = \"rowNumber\" style = \"font-weight: bold; text-align: right;\"></th><th title = \"Int64\" style = \"text-align: left;\">Int64</th><th title = \"Union{Missing, Int64}\" style = \"text-align: left;\">Int64?</th><th title = \"Union{Missing, String1}\" style = \"text-align: left;\">String1?</th><th title = \"Union{Missing, String15}\" style = \"text-align: left;\">String15?</th><th title = \"Union{Missing, Int64}\" style = \"text-align: left;\">Int64?</th><th title = \"Union{Missing, Float64}\" style = \"text-align: left;\">Float64?</th><th title = \"Union{Missing, String15}\" style = \"text-align: left;\">String15?</th><th title = \"Union{Missing, String15}\" style = \"text-align: left;\">String15?</th><th title = \"Union{Missing, Int64}\" style = \"text-align: left;\">Int64?</th><th title = \"Float64\" style = \"text-align: left;\">Float64</th><th title = \"Int64\" style = \"text-align: left;\">Int64</th><th title = \"Int64\" style = \"text-align: left;\">Int64</th><th title = \"Int64\" style = \"text-align: left;\">Int64</th><th title = \"Int64\" style = \"text-align: left;\">Int64</th><th title = \"Int64\" style = \"text-align: left;\">Int64</th><th title = \"Int64\" style = \"text-align: left;\">Int64</th><th title = \"Union{Missing, String7}\" style = \"text-align: left;\">String7?</th><th title = \"Int64\" style = \"text-align: left;\">Int64</th><th title = \"Int64\" style = \"text-align: left;\">Int64</th><th title = \"Union{Missing, Float64}\" style = \"text-align: left;\">Float64?</th><th title = \"Union{Missing, String7}\" style = \"text-align: left;\">String7?</th><th title = \"Union{Missing, String15}\" style = \"text-align: left;\">String15?</th><th title = \"Union{Missing, Int64}\" style = \"text-align: left;\">Int64?</th></tr></thead><tbody><tr><td class = \"rowNumber\" style = \"font-weight: bold; text-align: right;\">1</td><td style = \"text-align: right;\">4935</td><td style = \"text-align: right;\">81</td><td style = \"text-align: left;\">E</td><td style = \"text-align: left;\">E8B260</td><td style = \"text-align: right;\">22</td><td style = \"text-align: right;\">16.499</td><td style = \"text-align: left;\">4/20/2022</td><td style = \"text-align: left;\">5/5/2022</td><td style = \"text-align: right;\">15</td><td style = \"text-align: right;\">2.8033</td><td style = \"text-align: right;\">0</td><td style = \"text-align: right;\">0</td><td style = \"text-align: right;\">0</td><td style = \"text-align: right;\">0</td><td style = \"text-align: right;\">0</td><td style = \"text-align: right;\">0</td><td style = \"text-align: left;\">81_1</td><td style = \"text-align: right;\">0</td><td style = \"text-align: right;\">0</td><td style = \"text-align: right;\">2.14908</td><td style = \"text-align: left;\">81_D02</td><td style = \"text-align: left;\">29/08/2022</td><td style = \"text-align: right;\">85</td></tr><tr><td class = \"rowNumber\" style = \"font-weight: bold; text-align: right;\">2</td><td style = \"text-align: right;\">4936</td><td style = \"text-align: right;\">81</td><td style = \"text-align: left;\">E</td><td style = \"text-align: left;\">W3W953</td><td style = \"text-align: right;\">22</td><td style = \"text-align: right;\">13.6</td><td style = \"text-align: left;\">4/20/2022</td><td style = \"text-align: left;\">5/5/2022</td><td style = \"text-align: right;\">15</td><td style = \"text-align: right;\">2.61007</td><td style = \"text-align: right;\">0</td><td style = \"text-align: right;\">0</td><td style = \"text-align: right;\">0</td><td style = \"text-align: right;\">0</td><td style = \"text-align: right;\">0</td><td style = \"text-align: right;\">0</td><td style = \"text-align: left;\">81_1</td><td style = \"text-align: right;\">0</td><td style = \"text-align: right;\">0</td><td style = \"text-align: right;\">1.757</td><td style = \"text-align: left;\">81_B04</td><td style = \"text-align: left;\">29/08/2022</td><td style = \"text-align: right;\">85</td></tr><tr><td class = \"rowNumber\" style = \"font-weight: bold; text-align: right;\">3</td><td style = \"text-align: right;\">4937</td><td style = \"text-align: right;\">81</td><td style = \"text-align: left;\">E</td><td style = \"text-align: left;\">E8B205</td><td style = \"text-align: right;\">17</td><td style = \"text-align: right;\">23.1791</td><td style = \"text-align: left;\">4/20/2022</td><td style = \"text-align: left;\">5/5/2022</td><td style = \"text-align: right;\">15</td><td style = \"text-align: right;\">3.14325</td><td style = \"text-align: right;\">0</td><td style = \"text-align: right;\">0</td><td style = \"text-align: right;\">0</td><td style = \"text-align: right;\">0</td><td style = \"text-align: right;\">0</td><td style = \"text-align: right;\">0</td><td style = \"text-align: left;\">81_1</td><td style = \"text-align: right;\">0</td><td style = \"text-align: right;\">0</td><td style = \"text-align: right;\">2.40153</td><td style = \"text-align: left;\">81_D08</td><td style = \"text-align: left;\">29/08/2022</td><td style = \"text-align: right;\">85</td></tr><tr><td class = \"rowNumber\" style = \"font-weight: bold; text-align: right;\">4</td><td style = \"text-align: right;\">4938</td><td style = \"text-align: right;\">81</td><td style = \"text-align: left;\">E</td><td style = \"text-align: left;\">E8B411</td><td style = \"text-align: right;\">19</td><td style = \"text-align: right;\">16.9478</td><td style = \"text-align: left;\">6/9/2022</td><td style = \"text-align: left;\">5/5/2022</td><td style = \"font-style: italic; text-align: right;\">missing</td><td style = \"text-align: right;\">2.83014</td><td style = \"text-align: right;\">1</td><td style = \"text-align: right;\">0</td><td style = \"text-align: right;\">1</td><td style = \"text-align: right;\">0</td><td style = \"text-align: right;\">1</td><td style = \"text-align: right;\">1</td><td style = \"text-align: left;\">81_1</td><td style = \"text-align: right;\">1</td><td style = \"text-align: right;\">1</td><td style = \"text-align: right;\">-0.71744</td><td style = \"text-align: left;\">81_B04</td><td style = \"text-align: left;\">30/08/2022</td><td style = \"text-align: right;\">84</td></tr><tr><td class = \"rowNumber\" style = \"font-weight: bold; text-align: right;\">5</td><td style = \"text-align: right;\">4939</td><td style = \"text-align: right;\">81</td><td style = \"text-align: left;\">E</td><td style = \"text-align: left;\">3240</td><td style = \"text-align: right;\">16</td><td style = \"text-align: right;\">13.7074</td><td style = \"text-align: left;\">4/22/2022</td><td style = \"text-align: left;\">6/13/2022</td><td style = \"text-align: right;\">52</td><td style = \"text-align: right;\">2.61794</td><td style = \"text-align: right;\">0</td><td style = \"text-align: right;\">0</td><td style = \"text-align: right;\">0</td><td style = \"text-align: right;\">0</td><td style = \"text-align: right;\">0</td><td style = \"text-align: right;\">0</td><td style = \"text-align: left;\">81_1</td><td style = \"text-align: right;\">0</td><td style = \"text-align: right;\">0</td><td style = \"text-align: right;\">1.46326</td><td style = \"text-align: left;\">81_B06</td><td style = \"text-align: left;\">29/08/2022</td><td style = \"text-align: right;\">135</td></tr></tbody></table></div>"
      ],
      "text/latex": [
       "\\begin{tabular}{r|ccccccccc}\n",
       "\t& ID & Batch & Company & SowID & EntryAge & Cortisol & Hair1\\_GrindingDate & C\\_ExtractionDate & \\\\\n",
       "\t\\hline\n",
       "\t& Int64 & Int64? & String1? & String15? & Int64? & Float64? & String15? & String15? & \\\\\n",
       "\t\\hline\n",
       "\t1 & 4935 & 81 & E & E8B260 & 22 & 16.499 & 4/20/2022 & 5/5/2022 & $\\dots$ \\\\\n",
       "\t2 & 4936 & 81 & E & W3W953 & 22 & 13.6 & 4/20/2022 & 5/5/2022 & $\\dots$ \\\\\n",
       "\t3 & 4937 & 81 & E & E8B205 & 17 & 23.1791 & 4/20/2022 & 5/5/2022 & $\\dots$ \\\\\n",
       "\t4 & 4938 & 81 & E & E8B411 & 19 & 16.9478 & 6/9/2022 & 5/5/2022 & $\\dots$ \\\\\n",
       "\t5 & 4939 & 81 & E & 3240 & 16 & 13.7074 & 4/22/2022 & 6/13/2022 & $\\dots$ \\\\\n",
       "\\end{tabular}\n"
      ],
      "text/plain": [
       "\u001b[1m5×23 DataFrame\u001b[0m\n",
       "\u001b[1m Row \u001b[0m│\u001b[1m ID    \u001b[0m\u001b[1m Batch  \u001b[0m\u001b[1m Company  \u001b[0m\u001b[1m SowID     \u001b[0m\u001b[1m EntryAge \u001b[0m\u001b[1m Cortisol \u001b[0m\u001b[1m Hair1_GrindingD\u001b[0m ⋯\n",
       "     │\u001b[90m Int64 \u001b[0m\u001b[90m Int64? \u001b[0m\u001b[90m String1? \u001b[0m\u001b[90m String15? \u001b[0m\u001b[90m Int64?   \u001b[0m\u001b[90m Float64? \u001b[0m\u001b[90m String15?      \u001b[0m ⋯\n",
       "─────┼──────────────────────────────────────────────────────────────────────────\n",
       "   1 │  4935      81  E         E8B260           22   16.499   4/20/2022       ⋯\n",
       "   2 │  4936      81  E         W3W953           22   13.6     4/20/2022\n",
       "   3 │  4937      81  E         E8B205           17   23.1791  4/20/2022\n",
       "   4 │  4938      81  E         E8B411           19   16.9478  6/9/2022\n",
       "   5 │  4939      81  E         3240             16   13.7074  4/22/2022       ⋯\n",
       "\u001b[36m                                                              17 columns omitted\u001b[0m"
      ]
     },
     "execution_count": 2,
     "metadata": {},
     "output_type": "execute_result"
    }
   ],
   "source": [
    "# Step 2: Read data \n",
    "phenofile = dataset(\"C:/Users/aisha/Desktop/Grad_School/ROTATIONS/Jack_Lab/Stress_project/Analyses/SWIM_imputation/QTLmarkers/Hormones.csv\")\n",
    "genofile = dataset(\"C:/Users/aisha/Desktop/Grad_School/ROTATIONS/Jack_Lab/Stress_project/Analyses/GWAS/dummy_genotypes.txt\")\n",
    "phenotypes = CSV.read(phenofile,DataFrame,delim = ',',header=true,missingstrings=[\"NA\"])\n",
    "phenotypes = dropmissing(phenotypes, :qNurlogCort)\n",
    "first(phenotypes,5)\n"
   ]
  },
  {
   "cell_type": "code",
   "execution_count": 3,
   "id": "02fa8773",
   "metadata": {},
   "outputs": [
    {
     "name": "stdout",
     "output_type": "stream",
     "text": [
      "\u001b[32mThe delimiterd in dummy_genotypes.txt is ','. \u001b[39m\u001b[32mThe header (marker IDs) is provided in dummy_genotypes.txt.\u001b[39m\n",
      "Genotype informatin:\n",
      "#markers: 4999; #individuals: 4095\n"
     ]
    }
   ],
   "source": [
    "Hair_G5=0.151743E-01 #Additive var.\n",
    "genotypes = get_genotypes(genofile,header=true,separator=',',Hair_G5,method=\"BayesB\",quality_control=false, Pi = 0.999, estimatePi = false,estimate_scale=true);\n",
    "#"
   ]
  },
  {
   "cell_type": "code",
   "execution_count": 4,
   "id": "6ccae779",
   "metadata": {},
   "outputs": [],
   "source": [
    "# Step 3: Build Model Equations\n",
    "Hair_model_equation = \"qNurlogCort = Batch + EntryAge  + C_GrindingToExtractionTime + SowID + qNurPenBatch + C_ExtractionDate + Hair1_GrindingDate + genotypes\";\n",
    "#Hair_R=0.721038E-01; #Residual var\n",
    "Hair_model = build_model(Hair_model_equation);#, Hair_R\n",
    "#"
   ]
  },
  {
   "cell_type": "code",
   "execution_count": 5,
   "id": "ac7808b4",
   "metadata": {},
   "outputs": [],
   "source": [
    "# Step 4: Set Factors or Covariates\n",
    "set_covariate(Hair_model, \"EntryAge\");\n",
    "set_covariate(Hair_model, \"C_GrindingToExtractionTime\");"
   ]
  },
  {
   "cell_type": "code",
   "execution_count": 6,
   "id": "735f2539",
   "metadata": {},
   "outputs": [],
   "source": [
    "#Hair_G1=0.224905E-03;\n",
    "set_random(Hair_model,\"qNurPenBatch\"); #,Hair_G1\n",
    "#Hair_G2=0.257092E-01;\n",
    "set_random(Hair_model,\"SowID\"); #,Hair_G2\n",
    "#Hair_G3=0.05;\n",
    "set_random(Hair_model,\"C_ExtractionDate\"); #,Hair_G3\n",
    "#Hair_G4=0.05;\n",
    "set_random(Hair_model,\"Hair1_GrindingDate\"); #,Hair_G4"
   ]
  },
  {
   "cell_type": "code",
   "execution_count": 7,
   "id": "4e8d237f",
   "metadata": {},
   "outputs": [
    {
     "name": "stdout",
     "output_type": "stream",
     "text": [
      "\u001b[31mThe folder results already exists.\u001b[39m\n",
      "\u001b[31mThe folder results1 already exists.\u001b[39m\n",
      "\u001b[31mThe folder results2 already exists.\u001b[39m\n",
      "\u001b[31mThe folder results3 already exists.\u001b[39m\n",
      "\u001b[31mThe folder results4 already exists.\u001b[39m\n",
      "\u001b[31mThe folder results5 already exists.\u001b[39m\n",
      "\u001b[32mThe folder results6 is created to save results.\u001b[39m\n",
      "\u001b[32mChecking genotypes...\u001b[39m\n",
      "\u001b[32mChecking phenotypes...\u001b[39m\n",
      "\u001b[32mIndividual IDs (strings) are provided in the first column of the phenotypic data.\u001b[39m\n",
      "\u001b[32mPredicted values for individuals of interest will be obtained as the summation of Any[] (Note that genomic data is always included for now).\u001b[39m\u001b[31mMissing values are found in column Batch for some observations.Effects of this variable on such observations are considered as zeros. It will be used in the estimation of this effect. Users may impute missing values before the analysis \u001b[39m\n",
      "\u001b[31mMissing values are found in column EntryAge for some observations.Effects of this variable on such observations are considered as zeros. It will be used in the estimation of this effect. Users may impute missing values before the analysis \u001b[39m\n",
      "\u001b[31mMissing values are found in column C_GrindingToExtractionTime for some observations.Effects of this variable on such observations are considered as zeros. It will be used in the estimation of this effect. Users may impute missing values before the analysis \u001b[39m\n",
      "\u001b[31mMissing values are found in column SowID for some observations.Effects of this variable on such observations are considered as zeros. It will be used in the estimation of this effect. Users may impute missing values before the analysis \u001b[39m\n",
      "\u001b[31mMissing values are found in column qNurPenBatch for some observations.Effects of this variable on such observations are considered as zeros. It will be used in the estimation of this effect. Users may impute missing values before the analysis \u001b[39m\n",
      "\u001b[31mMissing values are found in column Hair1_GrindingDate for some observations.Effects of this variable on such observations are considered as zeros. It will be used in the estimation of this effect. Users may impute missing values before the analysis \u001b[39m\n",
      "\u001b[32mPhenotypes for 863 observations are used in the analysis.These individual IDs are saved in the file IDs_for_individuals_with_phenotypes.txt.\u001b[39m\n",
      "\u001b[32mPrior information for residual variance is not provided and is generated from the data.\u001b[39m\n",
      "\u001b[32mPrior information for random effect variance is not provided and is generated from the data.\u001b[39m\n",
      "\u001b[32mPrior information for random effect variance is not provided and is generated from the data.\u001b[39m\n",
      "\u001b[32mPrior information for random effect variance is not provided and is generated from the data.\u001b[39m\n",
      "\u001b[32mPrior information for random effect variance is not provided and is generated from the data.\u001b[39m\n",
      "\n",
      "The prior for marker effects variance is calculated from the genetic variance and π.\n",
      "The mean of the prior for the marker effects variance is: 0.007651\n",
      "\n",
      "\n",
      "\n",
      "\u001b[0m\u001b[1mA Linear Mixed Model was build using model equations:\u001b[22m\n",
      "\n",
      "qNurlogCort = Batch + EntryAge  + C_GrindingToExtractionTime + SowID + qNurPenBatch + C_ExtractionDate + Hair1_GrindingDate + genotypes\n",
      "\n",
      "\u001b[0m\u001b[1mModel Information:\u001b[22m\n",
      "\n",
      "Term            C/F          F/R            nLevels\n",
      "Batch           factor       fixed               15\n",
      "EntryAge        covariate    fixed                1\n",
      "C_GrindingToExtractionTime covariate    fixed                1\n",
      "SowID           factor       random             281\n",
      "qNurPenBatch    factor       random              68\n",
      "C_ExtractionDate factor       random              22\n",
      "Hair1_GrindingDate factor       random              55\n",
      "\n",
      "\u001b[0m\u001b[1mMCMC Information:\u001b[22m\n",
      "\n",
      "chain_length                                    200\n",
      "burnin                                            0\n",
      "starting_value                                 true\n",
      "printout_frequency                              201\n",
      "output_samples_frequency                         10\n",
      "constraint on residual variance               false\n",
      "constraint on marker effect variance for genotypes false\n",
      "missing_phenotypes                             true\n",
      "update_priors_frequency                           0\n",
      "seed                                          false\n",
      "\n",
      "\u001b[0m\u001b[1mHyper-parameters Information:\u001b[22m\n",
      "\n",
      "random effect variances (qNurlogCort:qNurPenBatch):            [0.018;;]\n",
      "random effect variances (qNurlogCort:SowID):            [0.018;;]\n",
      "random effect variances (qNurlogCort:C_ExtractionDate):            [0.018;;]\n",
      "random effect variances (qNurlogCort:Hair1_GrindingDate):            [0.018;;]\n",
      "residual variances:                           0.018\n",
      "\n",
      "\u001b[0m\u001b[1mGenomic Information:\u001b[22m\n",
      "\n",
      "complete genomic data (i.e., non-single-step analysis)\n",
      "\n",
      "Genomic Category                          genotypes\n",
      "Method                                       BayesB\n",
      "genetic variances (genomic):                  0.015\n",
      "marker effect variances:                      0.008\n",
      "π                                             0.999\n",
      "estimatePi                                    false\n",
      "estimate_scale                                 true\n",
      "\n",
      "\u001b[0m\u001b[1mDegree of freedom for hyper-parameters:\u001b[22m\n",
      "\n",
      "residual variances:                           4.000\n",
      "random effect variances:                      5.000\n",
      "random effect variances:                      5.000\n",
      "random effect variances:                      5.000\n",
      "random effect variances:                      5.000\n",
      "marker effect variances:                      4.000\n",
      "\n",
      "\n",
      "\n",
      "\u001b[32mThe file results6/MCMC_samples_residual_variance.txt is created to save MCMC samples for residual_variance.\u001b[39m\n",
      "\u001b[32mThe file results6/MCMC_samples_marker_effects_genotypes_qNurlogCort.txt is created to save MCMC samples for marker_effects_genotypes_qNurlogCort.\u001b[39m\n",
      "\u001b[32mThe file results6/MCMC_samples_marker_effects_variances_genotypes.txt is created to save MCMC samples for marker_effects_variances_genotypes.\u001b[39m\n",
      "\u001b[32mThe file results6/MCMC_samples_pi_genotypes.txt is created to save MCMC samples for pi_genotypes.\u001b[39m\n",
      "\u001b[32mThe file results6/MCMC_samples_qNurlogCort.qNurPenBatch_variances.txt is created to save MCMC samples for qNurlogCort:qNurPenBatch_variances.\u001b[39m\n",
      "\u001b[32mThe file results6/MCMC_samples_qNurlogCort.SowID_variances.txt is created to save MCMC samples for qNurlogCort:SowID_variances.\u001b[39m\n",
      "\u001b[32mThe file results6/MCMC_samples_qNurlogCort.C_ExtractionDate_variances.txt is created to save MCMC samples for qNurlogCort:C_ExtractionDate_variances.\u001b[39m\n",
      "\u001b[32mThe file results6/MCMC_samples_qNurlogCort.Hair1_GrindingDate_variances.txt is created to save MCMC samples for qNurlogCort:Hair1_GrindingDate_variances.\u001b[39m\n",
      "\u001b[32mThe file results6/MCMC_samples_EBV_qNurlogCort.txt is created to save MCMC samples for EBV_qNurlogCort.\u001b[39m\n",
      "\u001b[32mThe file results6/MCMC_samples_genetic_variance.txt is created to save MCMC samples for genetic_variance.\u001b[39m\n"
     ]
    },
    {
     "name": "stderr",
     "output_type": "stream",
     "text": [
      "\r",
      "\u001b[32mrunning MCMC ...   1%|█                                  |  ETA: 0:06:42\u001b[39m"
     ]
    },
    {
     "name": "stdout",
     "output_type": "stream",
     "text": [
      "\u001b[32mThe file results6/MCMC_samples_heritability.txt is created to save MCMC samples for heritability.\u001b[39m\n"
     ]
    },
    {
     "name": "stderr",
     "output_type": "stream",
     "text": [
      "\u001b[32mrunning MCMC ... 100%|███████████████████████████████████| Time: 0:00:07\u001b[39m\n"
     ]
    },
    {
     "name": "stdout",
     "output_type": "stream",
     "text": [
      "\n",
      "\n",
      "\u001b[0m\u001b[1mThe version of Julia and Platform in use:\u001b[22m\n",
      "\n",
      "Julia Version 1.10.0\n",
      "Commit 3120989f39 (2023-12-25 18:01 UTC)\n",
      "Build Info:\n",
      "  Official https://julialang.org/ release\n",
      "Platform Info:\n",
      "  OS: Windows (x86_64-w64-mingw32)\n",
      "  CPU: 16 × AMD Ryzen 7 5700U with Radeon Graphics         \n",
      "  WORD_SIZE: 64\n",
      "  LIBM: libopenlibm\n",
      "  LLVM: libLLVM-15.0.7 (ORCJIT, znver2)\n",
      "  Threads: 2 on 16 virtual cores\n",
      "\n",
      "\n",
      "\u001b[0m\u001b[1mThe analysis has finished. Results are saved in the returned \u001b[22m\u001b[0m\u001b[1mvariable and text files. MCMC samples are saved in text files.\u001b[22m\n",
      "\n",
      "\n"
     ]
    }
   ],
   "source": [
    "# Step 5: Run Analysis\n",
    "out=runMCMC(Hair_model,phenotypes, chain_length=200,burnin = 0,output_heritability=true, output_samples_frequency=10);\n"
   ]
  },
  {
   "cell_type": "code",
   "execution_count": 9,
   "id": "4510a716",
   "metadata": {},
   "outputs": [
    {
     "name": "stdout",
     "output_type": "stream",
     "text": [
      "Compute the posterior probability of association of the genomic window that explains more than 0.001 of the total genetic variance.\n"
     ]
    },
    {
     "name": "stderr",
     "output_type": "stream",
     "text": [
      "\u001b[32mrunning GWAS... 100%|████████████████████████████████████| Time: 0:00:02\u001b[39m\n"
     ]
    },
    {
     "data": {
      "text/plain": [
       "\"C:\\\\Users\\\\aisha\\\\results6\""
      ]
     },
     "execution_count": 9,
     "metadata": {},
     "output_type": "execute_result"
    }
   ],
   "source": [
    "# Step 6: Run GWAS\n",
    "cd(\"C:/Users/aisha/results6\")\n",
    "out = GWAS(\"MCMC_samples_marker_effects_genotypes_qNurlogCort.txt\",\"dummy_mapfile.txt\",Hair_model,window_size=\"1 Mb\")\n",
    "#sort(out, :prGenVar, rev=true)\n",
    "#CSV.write(\"WindowEffectsqNurlogCort.txt\",out)\n",
    "pwd()\n"
   ]
  },
  {
   "cell_type": "code",
   "execution_count": null,
   "id": "ad62bcec",
   "metadata": {},
   "outputs": [],
   "source": []
  }
 ],
 "metadata": {
  "kernelspec": {
   "display_name": "Julia 1.10.0",
   "language": "julia",
   "name": "julia-1.10"
  },
  "language_info": {
   "file_extension": ".jl",
   "mimetype": "application/julia",
   "name": "julia",
   "version": "1.10.0"
  }
 },
 "nbformat": 4,
 "nbformat_minor": 5
}
