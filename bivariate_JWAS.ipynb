{
 "cells": [
  {
   "cell_type": "code",
   "execution_count": 1,
   "id": "ae5239ec",
   "metadata": {},
   "outputs": [
    {
     "name": "stderr",
     "output_type": "stream",
     "text": [
      "\u001b[32m\u001b[1m    Updating\u001b[22m\u001b[39m git-repo `https://github.com/reworkhow/JWAS.jl.git`\n",
      "\u001b[32m\u001b[1m   Resolving\u001b[22m\u001b[39m package versions...\n",
      "\u001b[32m\u001b[1m  No Changes\u001b[22m\u001b[39m to `C:\\Users\\aisha\\.julia\\environments\\v1.10\\Project.toml`\n",
      "\u001b[32m\u001b[1m  No Changes\u001b[22m\u001b[39m to `C:\\Users\\aisha\\.julia\\environments\\v1.10\\Manifest.toml`\n",
      "\u001b[32m\u001b[1m    Updating\u001b[22m\u001b[39m registry at `C:\\Users\\aisha\\.julia\\registries\\General.toml`\n",
      "\u001b[32m\u001b[1m    Updating\u001b[22m\u001b[39m git-repo `https://github.com/reworkhow/JWAS.jl.git`\n",
      "\u001b[32m\u001b[1m  No Changes\u001b[22m\u001b[39m to `C:\\Users\\aisha\\.julia\\environments\\v1.10\\Project.toml`\n",
      "\u001b[32m\u001b[1m  No Changes\u001b[22m\u001b[39m to `C:\\Users\\aisha\\.julia\\environments\\v1.10\\Manifest.toml`\n",
      "\u001b[32m\u001b[1m   Resolving\u001b[22m\u001b[39m package versions...\n",
      "\u001b[32m\u001b[1m  No Changes\u001b[22m\u001b[39m to `C:\\Users\\aisha\\.julia\\environments\\v1.10\\Project.toml`\n",
      "\u001b[32m\u001b[1m  No Changes\u001b[22m\u001b[39m to `C:\\Users\\aisha\\.julia\\environments\\v1.10\\Manifest.toml`\n",
      "\u001b[32m\u001b[1m   Resolving\u001b[22m\u001b[39m package versions...\n",
      "\u001b[32m\u001b[1m  No Changes\u001b[22m\u001b[39m to `C:\\Users\\aisha\\.julia\\environments\\v1.10\\Project.toml`\n",
      "\u001b[32m\u001b[1m  No Changes\u001b[22m\u001b[39m to `C:\\Users\\aisha\\.julia\\environments\\v1.10\\Manifest.toml`\n"
     ]
    }
   ],
   "source": [
    "using Pkg\n",
    "Pkg.add(PackageSpec(name=\"JWAS\", rev=\"master\"))\n",
    "Pkg.update()\n",
    "Pkg.add(\"DataFrames\")\n",
    "Pkg.add(\"CSV\")\n",
    "using JWAS,JWAS.Datasets,DataFrames,CSV,Statistics"
   ]
  },
  {
   "cell_type": "code",
   "execution_count": 2,
   "id": "bb002b95",
   "metadata": {},
   "outputs": [
    {
     "name": "stderr",
     "output_type": "stream",
     "text": [
      "\u001b[33m\u001b[1m┌ \u001b[22m\u001b[39m\u001b[33m\u001b[1mWarning: \u001b[22m\u001b[39m`missingstrings` keyword argument is deprecated; pass a `Vector{String}` to `missingstring` instead\n",
      "\u001b[33m\u001b[1m└ \u001b[22m\u001b[39m\u001b[90m@ CSV C:\\Users\\aisha\\.julia\\packages\\CSV\\aoJqo\\src\\context.jl:344\u001b[39m\n"
     ]
    },
    {
     "data": {
      "text/html": [
       "<div><div style = \"float: left;\"><span>5×23 DataFrame</span></div><div style = \"clear: both;\"></div></div><div class = \"data-frame\" style = \"overflow-x: scroll;\"><table class = \"data-frame\" style = \"margin-bottom: 6px;\"><thead><tr class = \"header\"><th class = \"rowNumber\" style = \"font-weight: bold; text-align: right;\">Row</th><th style = \"text-align: left;\">ID</th><th style = \"text-align: left;\">Batch</th><th style = \"text-align: left;\">Company</th><th style = \"text-align: left;\">SowID</th><th style = \"text-align: left;\">EntryAge</th><th style = \"text-align: left;\">Cortisol</th><th style = \"text-align: left;\">Hair1_GrindingDate</th><th style = \"text-align: left;\">C_ExtractionDate</th><th style = \"text-align: left;\">C_GrindingToExtractionTime</th><th style = \"text-align: left;\">qNurlogCort</th><th style = \"text-align: left;\">SW_144836353</th><th style = \"text-align: left;\">SW_144841591</th><th style = \"text-align: left;\">SW_144792892</th><th style = \"text-align: left;\">SW_144876147</th><th style = \"text-align: left;\">SW_144827094</th><th style = \"text-align: left;\">SW_144841166</th><th style = \"text-align: left;\">qNurPenBatch</th><th style = \"text-align: left;\">SW_144783524</th><th style = \"text-align: left;\">SW_144783527</th><th style = \"text-align: left;\">cNurlogCort</th><th style = \"text-align: left;\">cNurPenBatch</th><th style = \"text-align: left;\">GrindingDate2</th><th style = \"text-align: left;\">cNur_groundstorage</th></tr><tr class = \"subheader headerLastRow\"><th class = \"rowNumber\" style = \"font-weight: bold; text-align: right;\"></th><th title = \"Int64\" style = \"text-align: left;\">Int64</th><th title = \"Union{Missing, Int64}\" style = \"text-align: left;\">Int64?</th><th title = \"Union{Missing, String1}\" style = \"text-align: left;\">String1?</th><th title = \"Union{Missing, String15}\" style = \"text-align: left;\">String15?</th><th title = \"Union{Missing, Int64}\" style = \"text-align: left;\">Int64?</th><th title = \"Union{Missing, Float64}\" style = \"text-align: left;\">Float64?</th><th title = \"Union{Missing, String15}\" style = \"text-align: left;\">String15?</th><th title = \"Union{Missing, String15}\" style = \"text-align: left;\">String15?</th><th title = \"Union{Missing, Int64}\" style = \"text-align: left;\">Int64?</th><th title = \"Float64\" style = \"text-align: left;\">Float64</th><th title = \"Int64\" style = \"text-align: left;\">Int64</th><th title = \"Int64\" style = \"text-align: left;\">Int64</th><th title = \"Int64\" style = \"text-align: left;\">Int64</th><th title = \"Int64\" style = \"text-align: left;\">Int64</th><th title = \"Int64\" style = \"text-align: left;\">Int64</th><th title = \"Int64\" style = \"text-align: left;\">Int64</th><th title = \"Union{Missing, String7}\" style = \"text-align: left;\">String7?</th><th title = \"Int64\" style = \"text-align: left;\">Int64</th><th title = \"Int64\" style = \"text-align: left;\">Int64</th><th title = \"Union{Missing, Float64}\" style = \"text-align: left;\">Float64?</th><th title = \"Union{Missing, String7}\" style = \"text-align: left;\">String7?</th><th title = \"Union{Missing, String15}\" style = \"text-align: left;\">String15?</th><th title = \"Union{Missing, Int64}\" style = \"text-align: left;\">Int64?</th></tr></thead><tbody><tr><td class = \"rowNumber\" style = \"font-weight: bold; text-align: right;\">1</td><td style = \"text-align: right;\">4935</td><td style = \"text-align: right;\">81</td><td style = \"text-align: left;\">E</td><td style = \"text-align: left;\">E8B260</td><td style = \"text-align: right;\">22</td><td style = \"text-align: right;\">16.499</td><td style = \"text-align: left;\">4/20/2022</td><td style = \"text-align: left;\">5/5/2022</td><td style = \"text-align: right;\">15</td><td style = \"text-align: right;\">2.8033</td><td style = \"text-align: right;\">0</td><td style = \"text-align: right;\">0</td><td style = \"text-align: right;\">0</td><td style = \"text-align: right;\">0</td><td style = \"text-align: right;\">0</td><td style = \"text-align: right;\">0</td><td style = \"text-align: left;\">81_1</td><td style = \"text-align: right;\">0</td><td style = \"text-align: right;\">0</td><td style = \"text-align: right;\">2.14908</td><td style = \"text-align: left;\">81_D02</td><td style = \"text-align: left;\">29/08/2022</td><td style = \"text-align: right;\">85</td></tr><tr><td class = \"rowNumber\" style = \"font-weight: bold; text-align: right;\">2</td><td style = \"text-align: right;\">4936</td><td style = \"text-align: right;\">81</td><td style = \"text-align: left;\">E</td><td style = \"text-align: left;\">W3W953</td><td style = \"text-align: right;\">22</td><td style = \"text-align: right;\">13.6</td><td style = \"text-align: left;\">4/20/2022</td><td style = \"text-align: left;\">5/5/2022</td><td style = \"text-align: right;\">15</td><td style = \"text-align: right;\">2.61007</td><td style = \"text-align: right;\">0</td><td style = \"text-align: right;\">0</td><td style = \"text-align: right;\">0</td><td style = \"text-align: right;\">0</td><td style = \"text-align: right;\">0</td><td style = \"text-align: right;\">0</td><td style = \"text-align: left;\">81_1</td><td style = \"text-align: right;\">0</td><td style = \"text-align: right;\">0</td><td style = \"text-align: right;\">1.757</td><td style = \"text-align: left;\">81_B04</td><td style = \"text-align: left;\">29/08/2022</td><td style = \"text-align: right;\">85</td></tr><tr><td class = \"rowNumber\" style = \"font-weight: bold; text-align: right;\">3</td><td style = \"text-align: right;\">4937</td><td style = \"text-align: right;\">81</td><td style = \"text-align: left;\">E</td><td style = \"text-align: left;\">E8B205</td><td style = \"text-align: right;\">17</td><td style = \"text-align: right;\">23.1791</td><td style = \"text-align: left;\">4/20/2022</td><td style = \"text-align: left;\">5/5/2022</td><td style = \"text-align: right;\">15</td><td style = \"text-align: right;\">3.14325</td><td style = \"text-align: right;\">0</td><td style = \"text-align: right;\">0</td><td style = \"text-align: right;\">0</td><td style = \"text-align: right;\">0</td><td style = \"text-align: right;\">0</td><td style = \"text-align: right;\">0</td><td style = \"text-align: left;\">81_1</td><td style = \"text-align: right;\">0</td><td style = \"text-align: right;\">0</td><td style = \"text-align: right;\">2.40153</td><td style = \"text-align: left;\">81_D08</td><td style = \"text-align: left;\">29/08/2022</td><td style = \"text-align: right;\">85</td></tr><tr><td class = \"rowNumber\" style = \"font-weight: bold; text-align: right;\">4</td><td style = \"text-align: right;\">4938</td><td style = \"text-align: right;\">81</td><td style = \"text-align: left;\">E</td><td style = \"text-align: left;\">E8B411</td><td style = \"text-align: right;\">19</td><td style = \"text-align: right;\">16.9478</td><td style = \"text-align: left;\">6/9/2022</td><td style = \"text-align: left;\">5/5/2022</td><td style = \"font-style: italic; text-align: right;\">missing</td><td style = \"text-align: right;\">2.83014</td><td style = \"text-align: right;\">1</td><td style = \"text-align: right;\">0</td><td style = \"text-align: right;\">1</td><td style = \"text-align: right;\">0</td><td style = \"text-align: right;\">1</td><td style = \"text-align: right;\">1</td><td style = \"text-align: left;\">81_1</td><td style = \"text-align: right;\">1</td><td style = \"text-align: right;\">1</td><td style = \"text-align: right;\">-0.71744</td><td style = \"text-align: left;\">81_B04</td><td style = \"text-align: left;\">30/08/2022</td><td style = \"text-align: right;\">84</td></tr><tr><td class = \"rowNumber\" style = \"font-weight: bold; text-align: right;\">5</td><td style = \"text-align: right;\">4939</td><td style = \"text-align: right;\">81</td><td style = \"text-align: left;\">E</td><td style = \"text-align: left;\">3240</td><td style = \"text-align: right;\">16</td><td style = \"text-align: right;\">13.7074</td><td style = \"text-align: left;\">4/22/2022</td><td style = \"text-align: left;\">6/13/2022</td><td style = \"text-align: right;\">52</td><td style = \"text-align: right;\">2.61794</td><td style = \"text-align: right;\">0</td><td style = \"text-align: right;\">0</td><td style = \"text-align: right;\">0</td><td style = \"text-align: right;\">0</td><td style = \"text-align: right;\">0</td><td style = \"text-align: right;\">0</td><td style = \"text-align: left;\">81_1</td><td style = \"text-align: right;\">0</td><td style = \"text-align: right;\">0</td><td style = \"text-align: right;\">1.46326</td><td style = \"text-align: left;\">81_B06</td><td style = \"text-align: left;\">29/08/2022</td><td style = \"text-align: right;\">135</td></tr></tbody></table></div>"
      ],
      "text/latex": [
       "\\begin{tabular}{r|ccccccccc}\n",
       "\t& ID & Batch & Company & SowID & EntryAge & Cortisol & Hair1\\_GrindingDate & C\\_ExtractionDate & \\\\\n",
       "\t\\hline\n",
       "\t& Int64 & Int64? & String1? & String15? & Int64? & Float64? & String15? & String15? & \\\\\n",
       "\t\\hline\n",
       "\t1 & 4935 & 81 & E & E8B260 & 22 & 16.499 & 4/20/2022 & 5/5/2022 & $\\dots$ \\\\\n",
       "\t2 & 4936 & 81 & E & W3W953 & 22 & 13.6 & 4/20/2022 & 5/5/2022 & $\\dots$ \\\\\n",
       "\t3 & 4937 & 81 & E & E8B205 & 17 & 23.1791 & 4/20/2022 & 5/5/2022 & $\\dots$ \\\\\n",
       "\t4 & 4938 & 81 & E & E8B411 & 19 & 16.9478 & 6/9/2022 & 5/5/2022 & $\\dots$ \\\\\n",
       "\t5 & 4939 & 81 & E & 3240 & 16 & 13.7074 & 4/22/2022 & 6/13/2022 & $\\dots$ \\\\\n",
       "\\end{tabular}\n"
      ],
      "text/plain": [
       "\u001b[1m5×23 DataFrame\u001b[0m\n",
       "\u001b[1m Row \u001b[0m│\u001b[1m ID    \u001b[0m\u001b[1m Batch  \u001b[0m\u001b[1m Company  \u001b[0m\u001b[1m SowID     \u001b[0m\u001b[1m EntryAge \u001b[0m\u001b[1m Cortisol \u001b[0m\u001b[1m Hair1_GrindingD\u001b[0m ⋯\n",
       "     │\u001b[90m Int64 \u001b[0m\u001b[90m Int64? \u001b[0m\u001b[90m String1? \u001b[0m\u001b[90m String15? \u001b[0m\u001b[90m Int64?   \u001b[0m\u001b[90m Float64? \u001b[0m\u001b[90m String15?      \u001b[0m ⋯\n",
       "─────┼──────────────────────────────────────────────────────────────────────────\n",
       "   1 │  4935      81  E         E8B260           22   16.499   4/20/2022       ⋯\n",
       "   2 │  4936      81  E         W3W953           22   13.6     4/20/2022\n",
       "   3 │  4937      81  E         E8B205           17   23.1791  4/20/2022\n",
       "   4 │  4938      81  E         E8B411           19   16.9478  6/9/2022\n",
       "   5 │  4939      81  E         3240             16   13.7074  4/22/2022       ⋯\n",
       "\u001b[36m                                                              17 columns omitted\u001b[0m"
      ]
     },
     "execution_count": 2,
     "metadata": {},
     "output_type": "execute_result"
    }
   ],
   "source": [
    "phenofile = dataset(\"C:/Users/aisha/Desktop/Grad_School/ROTATIONS/Jack_Lab/Stress_project/Analyses/SWIM_imputation/QTLmarkers/Hormones.csv\")\n",
    "genofile = dataset(\"C:/Users/aisha/Desktop/Grad_School/ROTATIONS/Jack_Lab/Stress_project/Analyses/GWAS/dummy_genotypes.txt\")\n",
    "phenotypes = CSV.read(phenofile,DataFrame,delim = ',',header=true,missingstrings=[\"NA\"])\n",
    "phenotypes = dropmissing(phenotypes, :qNurlogCort)\n",
    "first(phenotypes,5)"
   ]
  },
  {
   "cell_type": "code",
   "execution_count": 3,
   "id": "526b4927",
   "metadata": {},
   "outputs": [
    {
     "name": "stdout",
     "output_type": "stream",
     "text": [
      "\u001b[32mThe delimiterd in dummy_genotypes.txt is ','. \u001b[39m\u001b[32mThe header (marker IDs) is provided in dummy_genotypes.txt.\u001b[39m\n",
      "Genotype informatin:\n",
      "#markers: 4999; #individuals: 4095\n"
     ]
    }
   ],
   "source": [
    "MY_G3=[0.263606 0\n",
    "    0 0.555353]\n",
    "myPi=Dict([1.0; 1.0]=>0.000001,[1.0; 0.0]=>0.000999,[0.0; 1.0]=>0.000999,[0.0; 0.0]=>0.998001)\n",
    "genotypes=get_genotypes(genofile,header=true,separator=',',MY_G3,method=\"BayesB\",quality_control=false, Pi = myPi, estimatePi = false,estimate_scale=false);\n"
   ]
  },
  {
   "cell_type": "code",
   "execution_count": 8,
   "id": "c08873f3",
   "metadata": {},
   "outputs": [],
   "source": [
    "# Step 3: Build Model Equations\n",
    "MY_model_equations = \"qNurlogCort = Batch + EntryAge  + C_GrindingToExtractionTime + SowID + qNurPenBatch + C_ExtractionDate + Hair1_GrindingDate + genotypes\n",
    "             Cortisol = Batch + EntryAge  + C_GrindingToExtractionTime + SowID + qNurPenBatch + C_ExtractionDate + Hair1_GrindingDate + genotypes\";\n",
    "MY_R= [0.567401 0.568697\n",
    "    0.568697 3.75174]\n",
    "MY_model=build_model(MY_model_equations,MY_R);#"
   ]
  },
  {
   "cell_type": "code",
   "execution_count": 9,
   "id": "a10a08f9",
   "metadata": {},
   "outputs": [],
   "source": [
    "# Step 4: Set Factors or Covariates\n",
    "set_covariate(MY_model, \"EntryAge\");\n",
    "set_covariate(MY_model, \"C_GrindingToExtractionTime\");\n",
    "\n",
    "MY_G1=[0.631587E-02 0.395474E-01\n",
    "    0.395474E-01 0.591192];\n",
    "set_random(MY_model,\"qNurPenBatch\",MY_G1); #\n",
    "MY_G2=[0.631587E-02 0.395474E-01\n",
    "    0.395474E-01 0.591192];\n",
    "set_random(MY_model,\"SowID\",MY_G2); #\n",
    "MY_G3=[0.631587E-02 0.395474E-01\n",
    "    0.395474E-01 0.591192];\n",
    "set_random(MY_model,\"C_ExtractionDate\",MY_G3); #\n",
    "MY_G4=[0.631587E-02 0.395474E-01\n",
    "    0.395474E-01 0.591192];\n",
    "set_random(MY_model,\"Hair1_GrindingDate\",MY_G4); #\n",
    "\n"
   ]
  },
  {
   "cell_type": "code",
   "execution_count": 10,
   "id": "0de068c1",
   "metadata": {},
   "outputs": [
    {
     "name": "stdout",
     "output_type": "stream",
     "text": [
      "\u001b[31mThe folder results already exists.\u001b[39m\n",
      "\u001b[31mThe folder results1 already exists.\u001b[39m\n",
      "\u001b[31mThe folder results2 already exists.\u001b[39m\n",
      "\u001b[31mThe folder results3 already exists.\u001b[39m\n",
      "\u001b[31mThe folder results4 already exists.\u001b[39m\n",
      "\u001b[31mThe folder results5 already exists.\u001b[39m\n",
      "\u001b[31mThe folder results6 already exists.\u001b[39m\n",
      "\u001b[31mThe folder results7 already exists.\u001b[39m\n",
      "\u001b[31mThe folder results8 already exists.\u001b[39m\n",
      "\u001b[32mThe folder results9 is created to save results.\u001b[39m\n",
      "\u001b[32mChecking genotypes...\u001b[39m\n",
      "\u001b[32mChecking phenotypes...\u001b[39m\n",
      "\u001b[32mIndividual IDs (strings) are provided in the first column of the phenotypic data.\u001b[39m\n",
      "\u001b[32mPredicted values for individuals of interest will be obtained as the summation of Any[] (Note that genomic data is always included for now).\u001b[39m\u001b[31mMissing values are found in column Batch for some observations.Effects of this variable on such observations are considered as zeros. It will be used in the estimation of this effect. Users may impute missing values before the analysis \u001b[39m\n",
      "\u001b[31mMissing values are found in column EntryAge for some observations.Effects of this variable on such observations are considered as zeros. It will be used in the estimation of this effect. Users may impute missing values before the analysis \u001b[39m\n",
      "\u001b[31mMissing values are found in column C_GrindingToExtractionTime for some observations.Effects of this variable on such observations are considered as zeros. It will be used in the estimation of this effect. Users may impute missing values before the analysis \u001b[39m\n",
      "\u001b[31mMissing values are found in column SowID for some observations.Effects of this variable on such observations are considered as zeros. It will be used in the estimation of this effect. Users may impute missing values before the analysis \u001b[39m\n",
      "\u001b[31mMissing values are found in column qNurPenBatch for some observations.Effects of this variable on such observations are considered as zeros. It will be used in the estimation of this effect. Users may impute missing values before the analysis \u001b[39m\n",
      "\u001b[31mMissing values are found in column Hair1_GrindingDate for some observations.Effects of this variable on such observations are considered as zeros. It will be used in the estimation of this effect. Users may impute missing values before the analysis \u001b[39m\n",
      "\u001b[31mMissing values are found in column Batch for some observations.Effects of this variable on such observations are considered as zeros. It will be used in the estimation of this effect. Users may impute missing values before the analysis \u001b[39m\n",
      "\u001b[31mMissing values are found in column EntryAge for some observations.Effects of this variable on such observations are considered as zeros. It will be used in the estimation of this effect. Users may impute missing values before the analysis \u001b[39m\n",
      "\u001b[31mMissing values are found in column C_GrindingToExtractionTime for some observations.Effects of this variable on such observations are considered as zeros. It will be used in the estimation of this effect. Users may impute missing values before the analysis \u001b[39m\n",
      "\u001b[31mMissing values are found in column SowID for some observations.Effects of this variable on such observations are considered as zeros. It will be used in the estimation of this effect. Users may impute missing values before the analysis \u001b[39m\n",
      "\u001b[31mMissing values are found in column qNurPenBatch for some observations.Effects of this variable on such observations are considered as zeros. It will be used in the estimation of this effect. Users may impute missing values before the analysis \u001b[39m\n",
      "\u001b[31mMissing values are found in column Hair1_GrindingDate for some observations.Effects of this variable on such observations are considered as zeros. It will be used in the estimation of this effect. Users may impute missing values before the analysis \u001b[39m\n",
      "\u001b[32mPhenotypes for 863 observations are used in the analysis.These individual IDs are saved in the file IDs_for_individuals_with_phenotypes.txt.\u001b[39m\n"
     ]
    },
    {
     "ename": "LoadError",
     "evalue": "length of starting values for marker effects is wrong.",
     "output_type": "error",
     "traceback": [
      "length of starting values for marker effects is wrong.",
      "",
      "Stacktrace:",
      " [1] error(s::String)",
      "   @ Base .\\error.jl:35",
      " [2] init_mixed_model_equations(mme::JWAS.MME, df::DataFrame, starting_value::Bool)",
      "   @ JWAS C:\\Users\\aisha\\.julia\\packages\\JWAS\\K4wUo\\src\\1.JWAS\\src\\input_data_validation.jl:449",
      " [3] runMCMC(mme::JWAS.MME, df::DataFrame; heterogeneous_residuals::Bool, chain_length::Int64, starting_value::Bool, burnin::Int64, output_samples_frequency::Int64, update_priors_frequency::Int64, single_step_analysis::Bool, pedigree::Bool, fitting_J_vector::Bool, causal_structure::Bool, missing_phenotypes::Bool, RRM::Bool, outputEBV::Bool, output_heritability::Bool, prediction_equation::Bool, seed::Bool, printout_model_info::Bool, printout_frequency::Int64, big_memory::Bool, double_precision::Bool, output_folder::String, output_samples_for_all_parameters::Bool, methods::String, Pi::Float64, estimatePi::Bool, estimate_scale::Bool, estimate_variance::Bool, categorical_trait::Bool, censored_trait::Bool)",
      "   @ JWAS C:\\Users\\aisha\\.julia\\packages\\JWAS\\K4wUo\\src\\1.JWAS\\src\\JWAS.jl:370",
      " [4] top-level scope",
      "   @ In[10]:1"
     ]
    }
   ],
   "source": [
    "out=runMCMC(MY_model,phenotypes,missing_phenotypes=true,estimate_variance=true,chain_length=100,burnin=0,output_heritability=true,output_samples_frequency=10);"
   ]
  },
  {
   "cell_type": "code",
   "execution_count": null,
   "id": "0d2800ff",
   "metadata": {},
   "outputs": [],
   "source": [
    "cd(\"C:/Users/aisha/results1/results3\")\n",
    "out=GWAS(MY_model,\"dummy_mapfile.txt\",\"MCMC_samples_marker_effects_genotypes_Cortisol.txt\",\"MCMC_samples_marker_effects_genotypes_qNurlogCort.txt\",header=true,window_size=\"0.25 Mb\",sliding_window=false,GWAS=true,genetic_correlation=true)\n",
    "#sort(out, :estimate_cor, rev=true)\n",
    "#CSV.write(\"winVarPropsBivar.txt\",out)\n",
    "pwd()"
   ]
  },
  {
   "cell_type": "code",
   "execution_count": null,
   "id": "637dca98",
   "metadata": {},
   "outputs": [],
   "source": [
    "?runMCMC"
   ]
  },
  {
   "cell_type": "code",
   "execution_count": null,
   "id": "fa3cce97",
   "metadata": {},
   "outputs": [],
   "source": []
  }
 ],
 "metadata": {
  "kernelspec": {
   "display_name": "Julia 1.10.0",
   "language": "julia",
   "name": "julia-1.10"
  },
  "language_info": {
   "file_extension": ".jl",
   "mimetype": "application/julia",
   "name": "julia",
   "version": "1.10.0"
  }
 },
 "nbformat": 4,
 "nbformat_minor": 5
}
